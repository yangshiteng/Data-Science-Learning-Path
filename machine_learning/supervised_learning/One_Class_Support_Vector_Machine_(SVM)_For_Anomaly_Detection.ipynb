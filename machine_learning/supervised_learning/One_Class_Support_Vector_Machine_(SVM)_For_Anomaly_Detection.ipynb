{
  "nbformat": 4,
  "nbformat_minor": 0,
  "metadata": {
    "colab": {
      "provenance": [],
      "collapsed_sections": []
    },
    "kernelspec": {
      "name": "python3",
      "display_name": "Python 3"
    },
    "language_info": {
      "name": "python"
    }
  },
  "cells": [
    {
      "cell_type": "markdown",
      "source": [
        "# Resources"
      ],
      "metadata": {
        "id": "v2JwBykBAXrp"
      }
    },
    {
      "cell_type": "markdown",
      "source": [
        "\n",
        "* This notebook is for the blog post [One-Class SVM For Anomaly Detection\n",
        "](https://medium.com/grabngoinfo/one-class-svm-for-anomaly-detection-6c97fdd6d8af)\n",
        "* Video tutorial on [YouTube](https://www.youtube.com/watch?v=0IkFnHpUUjE&list=PLVppujud2yJo0qnXjWVAa8h7fxbFJHtfJ&index=6)\n",
        "* More video tutorials on [imbalanced modeling and anomaly detection](https://www.youtube.com/playlist?list=PLVppujud2yJo0qnXjWVAa8h7fxbFJHtfJ)\n",
        "* More blog posts on [imbalanced modeling and anomaly detection](https://medium.com/@AmyGrabNGoInfo/list/databricks-and-pyspark-7b59768e202d)\n",
        "- If you are not a Medium member and would like to support me as a writer to keep providing free content (😄 Buy me a cup of coffee ☕), join Medium membership through [this link](https://medium.com/@AmyGrabNGoInfo/membership). You will get full access to posts on Medium for $5 per month, and I will receive a portion of it. Thank you for your support!\n",
        "- Give me a [tip](https://www.paypal.com/donate/?hosted_button_id=4PZAFYA8GU8JW) to show your appreciation\n",
        "\n",
        "For more information about data science and machine learning, please check out my [YouTube channel](https://www.youtube.com/channel/UCmbA7XB6Wb7bLwJw9ARPcYg), [Medium Page](https://medium.com/@AmyGrabNGoInfo) and [GrabNGoInfo.com](https://grabngoinfo.com/tutorials/)."
      ],
      "metadata": {
        "id": "lcgQgvqz3mRY"
      }
    },
    {
      "cell_type": "markdown",
      "source": [
        "# Intro"
      ],
      "metadata": {
        "id": "pYbruwBc3RfT"
      }
    },
    {
      "cell_type": "markdown",
      "metadata": {
        "id": "RflYajvoP-0y"
      },
      "source": [
        "One-Class Support Vector Machine (SVM) is an unsupervised model for anomaly or outlier detection. Unlike the regular supervised SVM, the one-class SVM does not have target labels for the model training process. Instead, it learns the boundary for the normal data points and identifies the data outside the border to be anomalies. \n",
        "\n",
        "In this post, we will use Python's sklearn library to implement one-class SVM. You will learn the following after reading the post\n",
        "* How to train a one-class support vector machine (SVM) model\n",
        "* How to predict anomalies from a one-class SVM model\n",
        "* How to change the default threshold for anomaly prediction\n",
        "* How to visualize the prediction results\n",
        "\n",
        "Let's get started!"
      ]
    },
    {
      "cell_type": "markdown",
      "metadata": {
        "id": "Xj6sWGThVCZt"
      },
      "source": [
        "# Step 1: Import Libraries"
      ]
    },
    {
      "cell_type": "code",
      "metadata": {
        "id": "y067-lBs7UUt"
      },
      "source": [
        "# Synthetic dataset\n",
        "from sklearn.datasets import make_classification\n",
        "\n",
        "# Data processing\n",
        "import pandas as pd\n",
        "import numpy as np\n",
        "from collections import Counter\n",
        "\n",
        "# Visualization\n",
        "import matplotlib.pyplot as plt\n",
        "\n",
        "# Model and performance\n",
        "from sklearn.model_selection import train_test_split\n",
        "from sklearn.svm import OneClassSVM\n",
        "from sklearn.metrics import classification_report\n"
      ],
      "execution_count": null,
      "outputs": []
    },
    {
      "cell_type": "markdown",
      "metadata": {
        "id": "-bRXh-wA7jWV"
      },
      "source": [
        "# Step 2: Create Imbalanced Dataset"
      ]
    },
    {
      "cell_type": "markdown",
      "metadata": {
        "id": "opHsnLUO7zUm"
      },
      "source": [
        "Using `make_classification` from the `sklearn` library, We created two classes with the ratio between the majority class and the minority class being 0.995:0.005. Two informative features were made as predictors. We did not include any redundant or repeated features in this dataset."
      ]
    },
    {
      "cell_type": "code",
      "metadata": {
        "colab": {
          "base_uri": "https://localhost:8080/"
        },
        "id": "jbsmrMBO7Qcn",
        "outputId": "11256bf0-3ffd-4702-c5b7-eee5520f2950"
      },
      "source": [
        "# Create an imbalanced dataset\n",
        "X, y = make_classification(n_samples=100000, n_features=2, n_informative=2,\n",
        "                           n_redundant=0, n_repeated=0, n_classes=2,\n",
        "                           n_clusters_per_class=1,\n",
        "                           weights=[0.995, 0.005],\n",
        "                           class_sep=0.5, random_state=0)\n",
        "\n",
        "# Convert the data from numpy array to a pandas dataframe\n",
        "df = pd.DataFrame({'feature1': X[:, 0], 'feature2': X[:, 1], 'target': y})\n",
        "\n",
        "# Check the target distribution\n",
        "df['target'].value_counts(normalize = True)"
      ],
      "execution_count": null,
      "outputs": [
        {
          "output_type": "execute_result",
          "data": {
            "text/plain": [
              "0    0.9897\n",
              "1    0.0103\n",
              "Name: target, dtype: float64"
            ]
          },
          "metadata": {},
          "execution_count": 8
        }
      ]
    },
    {
      "cell_type": "markdown",
      "metadata": {
        "id": "3ivMOBh4GLcl"
      },
      "source": [
        "The output shows that we have about 1% of the data in the minority class and 99% in the majority class."
      ]
    },
    {
      "cell_type": "markdown",
      "metadata": {
        "id": "e_7OnEeUCJ0V"
      },
      "source": [
        "# Step 3: Train Test Split"
      ]
    },
    {
      "cell_type": "markdown",
      "metadata": {
        "id": "CTUkLJC2CSns"
      },
      "source": [
        "In this step, we split the dataset into 80% training data and 20% validation data. random_state ensures that we have the same train test split every time. The seed number for random_state does not have to be 42, and it can be any number."
      ]
    },
    {
      "cell_type": "code",
      "metadata": {
        "colab": {
          "base_uri": "https://localhost:8080/"
        },
        "id": "NF_EmIVnFh1n",
        "outputId": "247506dd-9671-403f-a5ae-7131151f9114"
      },
      "source": [
        "# Train test split\n",
        "X_train, X_test, y_train, y_test = train_test_split(X, y, test_size=0.2, random_state=42)\n",
        "\n",
        "# Check the number of records\n",
        "print('The number of records in the training dataset is', X_train.shape[0])\n",
        "print('The number of records in the test dataset is', X_test.shape[0])\n",
        "print(f\"The training dataset has {sorted(Counter(y_train).items())[0][1]} records for the majority class and {sorted(Counter(y_train).items())[1][1]} records for the minority class.\")"
      ],
      "execution_count": null,
      "outputs": [
        {
          "output_type": "stream",
          "name": "stdout",
          "text": [
            "The number of records in the training dataset is 80000\n",
            "The number of records in the test dataset is 20000\n",
            "The training dataset has 79183 records for the majority class and 817 records for the minority class.\n"
          ]
        }
      ]
    },
    {
      "cell_type": "markdown",
      "metadata": {
        "id": "FdH5fx-oFojt"
      },
      "source": [
        "The train test split gives us 80,000 records for the training dataset and 20,000 for the validation dataset. Thus, we have 79,183 data points from the majority class and 817 from the minority class in the training dataset.\n"
      ]
    },
    {
      "cell_type": "markdown",
      "metadata": {
        "id": "gvG0hEQ4aAUp"
      },
      "source": [
        "# Step 4: Train One-Class Support Vector Machine (SVM) Model"
      ]
    },
    {
      "cell_type": "markdown",
      "metadata": {
        "id": "HHKi86Mkn3fM"
      },
      "source": [
        "When training the one-class SVM, there are a few critical hyperparameters.\n",
        "* `nu` is to specify the percentage of anomalies. `nu=0.01` means that we have around 1% outliers in the dataset.\n",
        "* Kernel specifies the kernel type. The radial basis function (`rbf`) kernel is a commonly used kernel type. It maps data from a low dimensional space to a high dimensional space to help the SVM model draw a decision boundary.\n",
        "* `gamma` is a kernel coefficient, and it is for `'rbf'`, `'poly'`, and `'sigmoid'` kernels. When setting it to `'auto'`, the kernel coefficient is 1 over the number of features."
      ]
    },
    {
      "cell_type": "code",
      "metadata": {
        "id": "TY3zbgWqwuWe"
      },
      "source": [
        "# Train the one class support vector machine (SVM) model\n",
        "one_class_svm = OneClassSVM(nu=0.01, kernel = 'rbf', gamma = 'auto').fit(X_train)"
      ],
      "execution_count": null,
      "outputs": []
    },
    {
      "cell_type": "markdown",
      "metadata": {
        "id": "-delmK95xA-i"
      },
      "source": [
        "# Step 5: Predict Anomalies"
      ]
    },
    {
      "cell_type": "markdown",
      "metadata": {
        "id": "oB6jSPiHSbVH"
      },
      "source": [
        "After training the one-class SVM model on the training dataset, we make predictions on the testing dataset. By default, one-class SVM labels the normal data points as 1s and anomalies as -1s. To compare the labels with the ground truth in the testing dataset, we changed the anomalies' labels from -1 to 1, and the normal labels from 1 to 0."
      ]
    },
    {
      "cell_type": "code",
      "metadata": {
        "colab": {
          "base_uri": "https://localhost:8080/"
        },
        "id": "U-DqfTetPA32",
        "outputId": "b65560f5-569b-4a12-ed57-df1e876add6c"
      },
      "source": [
        "# Predict the anomalies\n",
        "prediction = one_class_svm.predict(X_test)\n",
        "\n",
        "# Change the anomalies' values to make it consistent with the true values\n",
        "prediction = [1 if i==-1 else 0 for i in prediction]\n",
        "\n",
        "# Check the model performance\n",
        "print(classification_report(y_test, prediction))"
      ],
      "execution_count": null,
      "outputs": [
        {
          "output_type": "stream",
          "name": "stdout",
          "text": [
            "              precision    recall  f1-score   support\n",
            "\n",
            "           0       0.99      0.99      0.99     19787\n",
            "           1       0.06      0.06      0.06       213\n",
            "\n",
            "    accuracy                           0.98     20000\n",
            "   macro avg       0.53      0.53      0.53     20000\n",
            "weighted avg       0.98      0.98      0.98     20000\n",
            "\n"
          ]
        }
      ]
    },
    {
      "cell_type": "markdown",
      "metadata": {
        "id": "3IwqWAjGSh_L"
      },
      "source": [
        "The model has a recall values of 6%, meaning that it captures 6% of the anomaly data points."
      ]
    },
    {
      "cell_type": "markdown",
      "metadata": {
        "id": "wWbFujYRyJWi"
      },
      "source": [
        "# Step 6: Customize Predictions Using Scores"
      ]
    },
    {
      "cell_type": "markdown",
      "metadata": {
        "id": "I5TgkeaRSyMk"
      },
      "source": [
        "Instead of using the default threshold for identifying outliers, we can customize the threshold and label more or fewer data points as outliers. For example, in the code below, we find the score for 2% of the data points and use it as the prediction threshold."
      ]
    },
    {
      "cell_type": "code",
      "metadata": {
        "colab": {
          "base_uri": "https://localhost:8080/"
        },
        "id": "pk6ftz1-yOEr",
        "outputId": "674a62d3-c87e-457a-bbb9-a1f45490f1b5"
      },
      "source": [
        "# Get the scores for the testing dataset\n",
        "score = one_class_svm.score_samples(X_test)\n",
        "\n",
        "# Check the score for 2% of outliers\n",
        "score_threshold = np.percentile(score, 2)\n",
        "print(f'The customized score threshold for 2% of outliers is {score_threshold:.2f}')"
      ],
      "execution_count": null,
      "outputs": [
        {
          "output_type": "stream",
          "name": "stdout",
          "text": [
            "The customized score threshold for 2% of outliers is 182.62\n"
          ]
        }
      ]
    },
    {
      "cell_type": "code",
      "metadata": {
        "colab": {
          "base_uri": "https://localhost:8080/"
        },
        "id": "dME6AeF30D2T",
        "outputId": "5e72ee44-da64-4d38-8b55-ba598d2ce6f2"
      },
      "source": [
        "# Check the model performance at 2% threshold\n",
        "customized_prediction = [1 if i < score_threshold else 0 for i in score]\n",
        "\n",
        "# # Check the prediction performance\n",
        "print(classification_report(y_test, customized_prediction))"
      ],
      "execution_count": null,
      "outputs": [
        {
          "output_type": "stream",
          "name": "stdout",
          "text": [
            "              precision    recall  f1-score   support\n",
            "\n",
            "           0       0.99      0.98      0.99     19787\n",
            "           1       0.06      0.10      0.07       213\n",
            "\n",
            "    accuracy                           0.97     20000\n",
            "   macro avg       0.52      0.54      0.53     20000\n",
            "weighted avg       0.98      0.97      0.98     20000\n",
            "\n"
          ]
        }
      ]
    },
    {
      "cell_type": "markdown",
      "metadata": {
        "id": "3TCQnQK0T9_l"
      },
      "source": [
        "The recall value increased from 6% to 10% because we increased the threshold for anomalies."
      ]
    },
    {
      "cell_type": "markdown",
      "metadata": {
        "id": "gj_KeHEQNa3M"
      },
      "source": [
        "# Step 7: Visualization"
      ]
    },
    {
      "cell_type": "markdown",
      "metadata": {
        "id": "6cH3gfgnUxcB"
      },
      "source": [
        "This step will plot the data points and check the differences between actual, one-class SVM prediction and customized one-class SVM prediction."
      ]
    },
    {
      "cell_type": "code",
      "metadata": {
        "colab": {
          "base_uri": "https://localhost:8080/"
        },
        "id": "VTSWqKg2PkJo",
        "outputId": "0b6afad1-b7cd-44b1-aad6-9e8279dc66ff"
      },
      "source": [
        "type(X_test)"
      ],
      "execution_count": null,
      "outputs": [
        {
          "output_type": "execute_result",
          "data": {
            "text/plain": [
              "numpy.ndarray"
            ]
          },
          "metadata": {},
          "execution_count": 15
        }
      ]
    },
    {
      "cell_type": "code",
      "metadata": {
        "id": "4RzeweNKNs6E"
      },
      "source": [
        "# Put the testing dataset and predictions in the same dataframe\n",
        "df_test = pd.DataFrame(X_test, columns=['feature1', 'feature2'])\n",
        "df_test['y_test'] = y_test\n",
        "df_test['one_class_svm_prediction'] = prediction\n",
        "df_test['one_class_svm_prediction_cutomized'] = customized_prediction"
      ],
      "execution_count": null,
      "outputs": []
    },
    {
      "cell_type": "code",
      "metadata": {
        "colab": {
          "base_uri": "https://localhost:8080/",
          "height": 204
        },
        "id": "8Kvzhs7mPyJs",
        "outputId": "3b55ba83-f52f-4009-f33d-9a892fdbf26e"
      },
      "source": [
        "df_test.head()"
      ],
      "execution_count": null,
      "outputs": [
        {
          "output_type": "execute_result",
          "data": {
            "text/html": [
              "<div>\n",
              "<style scoped>\n",
              "    .dataframe tbody tr th:only-of-type {\n",
              "        vertical-align: middle;\n",
              "    }\n",
              "\n",
              "    .dataframe tbody tr th {\n",
              "        vertical-align: top;\n",
              "    }\n",
              "\n",
              "    .dataframe thead th {\n",
              "        text-align: right;\n",
              "    }\n",
              "</style>\n",
              "<table border=\"1\" class=\"dataframe\">\n",
              "  <thead>\n",
              "    <tr style=\"text-align: right;\">\n",
              "      <th></th>\n",
              "      <th>feature1</th>\n",
              "      <th>feature2</th>\n",
              "      <th>y_test</th>\n",
              "      <th>one_class_svm_prediction</th>\n",
              "      <th>one_class_svm_prediction_cutomized</th>\n",
              "    </tr>\n",
              "  </thead>\n",
              "  <tbody>\n",
              "    <tr>\n",
              "      <th>0</th>\n",
              "      <td>-0.387675</td>\n",
              "      <td>0.374149</td>\n",
              "      <td>0</td>\n",
              "      <td>0</td>\n",
              "      <td>0</td>\n",
              "    </tr>\n",
              "    <tr>\n",
              "      <th>1</th>\n",
              "      <td>-0.617411</td>\n",
              "      <td>0.377246</td>\n",
              "      <td>0</td>\n",
              "      <td>0</td>\n",
              "      <td>0</td>\n",
              "    </tr>\n",
              "    <tr>\n",
              "      <th>2</th>\n",
              "      <td>0.431764</td>\n",
              "      <td>0.191341</td>\n",
              "      <td>0</td>\n",
              "      <td>0</td>\n",
              "      <td>0</td>\n",
              "    </tr>\n",
              "    <tr>\n",
              "      <th>3</th>\n",
              "      <td>-1.151505</td>\n",
              "      <td>0.386460</td>\n",
              "      <td>0</td>\n",
              "      <td>0</td>\n",
              "      <td>0</td>\n",
              "    </tr>\n",
              "    <tr>\n",
              "      <th>4</th>\n",
              "      <td>-0.150023</td>\n",
              "      <td>0.538970</td>\n",
              "      <td>0</td>\n",
              "      <td>0</td>\n",
              "      <td>0</td>\n",
              "    </tr>\n",
              "  </tbody>\n",
              "</table>\n",
              "</div>"
            ],
            "text/plain": [
              "   feature1  ...  one_class_svm_prediction_cutomized\n",
              "0 -0.387675  ...                                   0\n",
              "1 -0.617411  ...                                   0\n",
              "2  0.431764  ...                                   0\n",
              "3 -1.151505  ...                                   0\n",
              "4 -0.150023  ...                                   0\n",
              "\n",
              "[5 rows x 5 columns]"
            ]
          },
          "metadata": {},
          "execution_count": 23
        }
      ]
    },
    {
      "cell_type": "code",
      "metadata": {
        "colab": {
          "base_uri": "https://localhost:8080/",
          "height": 393
        },
        "id": "qZHJuvQyC5rm",
        "outputId": "704d88c3-b558-4471-f8ec-32b57d50379d"
      },
      "source": [
        "# Visualize the actual and predicted anomalies\n",
        "fig, (ax0, ax1, ax2)=plt.subplots(1,3, sharey=True, figsize=(20,6))\n",
        "\n",
        "# Ground truth\n",
        "ax0.set_title('Original')\n",
        "ax0.scatter(df_test['feature1'], df_test['feature2'], c=df_test['y_test'], cmap='rainbow')\n",
        "\n",
        "# One-Class SVM Predictions\n",
        "ax1.set_title('One-Class SVM Predictions')\n",
        "ax1.scatter(df_test['feature1'], df_test['feature2'], c=df_test['one_class_svm_prediction'], cmap='rainbow')\n",
        "\n",
        "# One-Class SVM Predictions With Customized Threshold\n",
        "ax2.set_title('One-Class SVM Predictions With Customized Threshold')\n",
        "ax2.scatter(df_test['feature1'], df_test['feature2'], c=df_test['one_class_svm_prediction_cutomized'], cmap='rainbow')"
      ],
      "execution_count": null,
      "outputs": [
        {
          "output_type": "execute_result",
          "data": {
            "text/plain": [
              "<matplotlib.collections.PathCollection at 0x7f31e9d14e50>"
            ]
          },
          "metadata": {},
          "execution_count": 32
        },
        {
          "output_type": "display_data",
          "data": {
            "image/png": "[encoded data removed]",
            "text/plain": [
              "<Figure size 1440x432 with 3 Axes>"
            ]
          },
          "metadata": {
            "needs_background": "light"
          }
        }
      ]
    },
    {
      "cell_type": "markdown",
      "metadata": {
        "id": "_oaGzmVxVOv0"
      },
      "source": [
        "We can see that one-class SVM has a clear boundary and labeled the data points out of the boundary to be anomalies. When we increase the threshold for the score, more data points are labels as anomalies."
      ]
    },
    {
      "cell_type": "markdown",
      "metadata": {
        "id": "PJD4o5VFVuCs"
      },
      "source": [
        "# Step 8: Put All Code Together"
      ]
    },
    {
      "cell_type": "code",
      "metadata": {
        "id": "g-JGfctKV1kk"
      },
      "source": [
        "###### Step 1: Import Libraries\n",
        "\n",
        "# Synthetic dataset\n",
        "from sklearn.datasets import make_classification\n",
        "\n",
        "# Data processing\n",
        "import pandas as pd\n",
        "import numpy as np\n",
        "from collections import Counter\n",
        "\n",
        "# Visualization\n",
        "import matplotlib.pyplot as plt\n",
        "\n",
        "# Model and performance\n",
        "from sklearn.svm import OneClassSVM\n",
        "from sklearn.model_selection import train_test_split\n",
        "from sklearn.metrics import classification_report\n",
        "\n",
        "\n",
        "###### Step 2: Create Imbalanced Dataset\n",
        "\n",
        "# Create an imbalanced dataset\n",
        "X, y = make_classification(n_samples=100000, n_features=2, n_informative=2,\n",
        "                           n_redundant=0, n_repeated=0, n_classes=2,\n",
        "                           n_clusters_per_class=1,\n",
        "                           weights=[0.995, 0.005],\n",
        "                           class_sep=0.5, random_state=0)\n",
        "\n",
        "# Convert the data from numpy array to a pandas dataframe\n",
        "df = pd.DataFrame({'feature1': X[:, 0], 'feature2': X[:, 1], 'target': y})\n",
        "\n",
        "# Check the target distribution\n",
        "df['target'].value_counts(normalize = True)\n",
        "\n",
        "\n",
        "###### Step 3: Train Test Split\n",
        "\n",
        "# Train test split\n",
        "X_train, X_test, y_train, y_test = train_test_split(X, y, test_size=0.2, random_state=42)\n",
        "\n",
        "# Check the number of records\n",
        "print('The number of records in the training dataset is', X_train.shape[0])\n",
        "print('The number of records in the test dataset is', X_test.shape[0])\n",
        "print(f\"The training dataset has {sorted(Counter(y_train).items())[0][1]} records for the majority class and {sorted(Counter(y_train).items())[1][1]} records for the minority class.\")\n",
        "\n",
        "\n",
        "###### Step 4: Train One-Class Support Vector Machine (SVM) Model\n",
        "\n",
        "# Train the one class support vector machine (SVM) model\n",
        "one_class_svm = OneClassSVM(nu=0.01, kernel = 'rbf', gamma = 'auto').fit(X_train)\n",
        "\n",
        "\n",
        "###### Step 5: Predict Anomalies\n",
        "\n",
        "# Predict the anomalies\n",
        "prediction = one_class_svm.predict(X_test)\n",
        "\n",
        "# Change the anomalies' values to make it consistent with the true values\n",
        "prediction = [1 if i==-1 else 0 for i in prediction]\n",
        "\n",
        "# Check the model performance\n",
        "print(classification_report(y_test, prediction))\n",
        "\n",
        "\n",
        "###### Step 6: Customize Predictions Using Scores\n",
        "\n",
        "# Get the scores for the testing dataset\n",
        "score = one_class_svm.score_samples(X_test)\n",
        "\n",
        "# Check the score for 2% of outliers\n",
        "score_threshold = np.percentile(score, 2)\n",
        "print(f'The customized score threshold for 2% of outliers is {score_threshold:.2f}')\n",
        "\n",
        "# Check the model performance at 2% threshold\n",
        "customized_prediction = [1 if i < score_threshold else 0 for i in score]\n",
        "\n",
        "# # Check the prediction performance\n",
        "print(classification_report(y_test, customized_prediction))\n",
        "\n",
        "\n",
        "###### Step 7: Visualization\n",
        "\n",
        "# Put the testing dataset and predictions in the same dataframe\n",
        "df_test = pd.DataFrame(X_test, columns=['feature1', 'feature2'])\n",
        "df_test['y_test'] = y_test\n",
        "df_test['one_class_svm_prediction'] = prediction\n",
        "df_test['one_class_svm_prediction_cutomized'] = customized_prediction\n",
        "\n",
        "# Visualize the actual and predicted anomalies\n",
        "fig, (ax0, ax1, ax2)=plt.subplots(1,3, sharey=True, figsize=(20,6))\n",
        "\n",
        "# Ground truth\n",
        "ax0.set_title('Original')\n",
        "ax0.scatter(df_test['feature1'], df_test['feature2'], c=df_test['y_test'], cmap='rainbow')\n",
        "\n",
        "# One-Class SVM Predictions\n",
        "ax1.set_title('One-Class SVM Predictions')\n",
        "ax1.scatter(df_test['feature1'], df_test['feature2'], c=df_test['one_class_svm_prediction'], cmap='rainbow')\n",
        "\n",
        "# One-Class SVM Predictions With Customized Threshold\n",
        "ax2.set_title('One-Class SVM Predictions With Customized Threshold')\n",
        "ax2.scatter(df_test['feature1'], df_test['feature2'], c=df_test['one_class_svm_prediction_cutomized'], cmap='rainbow')"
      ],
      "execution_count": null,
      "outputs": []
    },
    {
      "cell_type": "markdown",
      "metadata": {
        "id": "2jo5c99wV3TM"
      },
      "source": [
        "# Step 9: Summary"
      ]
    },
    {
      "cell_type": "markdown",
      "metadata": {
        "id": "9qTIC3lkV7Fm"
      },
      "source": [
        "In this article, we created a synthetic dataset with anomalies and used it to go through using One-Class Support Vector Machine (SVM) to make anomaly detection.\n",
        "\n",
        "Using the `sklearn` library in Python, we covered\n",
        "* How to train a one-class support vector machine (SVM) model\n",
        "* How to predict anomalies from a one-class SVM model\n",
        "* How to change the default threshold for anomaly prediction\n",
        "* How to visualize the prediction results\n",
        "\n",
        "To learn how to use isolation forest to do anomaly detection, please check my artical [Isolation Forest For Anomaly Detection](https://grabngoinfo.com/isolation-forest-for-anomaly-detection-and-imbalanced-classification/). \n",
        "\n",
        "To learn about detecting anomalies using a supervised model, please refer to my articles blow\n",
        "* [Four Oversampling And Under-Sampling Methods For Imbalanced Classification Using Python](https://grabngoinfo.com/four-oversampling-and-under-sampling-methods-for-imbalanced-classification-using-python/)\n",
        "* [Ensemble Oversampling And Under-Sampling For Imbalanced Classification Using Python](https://grabngoinfo.com/ensemble-oversampling-and-under-sampling-for-imbalanced-classification-using-python/)\n",
        "* [Balanced Weights For Imbalanced Classification](https://grabngoinfo.com/balanced-weights-for-imbalanced-classification/)\n",
        "* [Neural Network Model Balanced Weight For Imbalanced Classification In Keras](https://grabngoinfo.com/neural-network-model-balanced-weight-for-imbalanced-classification-in-keras/)"
      ]
    },
    {
      "cell_type": "markdown",
      "source": [
        "# Recommended Tutorials"
      ],
      "metadata": {
        "id": "2cUa4Qg63aqI"
      }
    },
    {
      "cell_type": "markdown",
      "source": [
        "- [Multivariate Time Series Forecasting with Seasonality and Holiday Effect Using Prophet in Python](https://medium.com/p/multivariate-time-series-forecasting-with-seasonality-and-holiday-effect-using-prophet-in-python-d5d4150eeb57)\n",
        "- [Four Oversampling And Under-Sampling Methods For Imbalanced Classification Using Python](https://medium.com/p/four-oversampling-and-under-sampling-methods-for-imbalanced-classification-using-python-7304aedf9037)\n",
        "- [3 Ways for Multiple Time Series Forecasting Using Prophet in Python](https://medium.com/p/3-ways-for-multiple-time-series-forecasting-using-prophet-in-python-7a0709a117f9)\n",
        "- [Databricks Mount To AWS S3 And Import Data](https://medium.com/grabngoinfo/databricks-mount-to-aws-s3-and-import-data-4100621a63fd)\n",
        "- [Hyperparameter Tuning For XGBoost](https://medium.com/p/hyperparameter-tuning-for-xgboost-91449869c57e)\n",
        "- [One-Class SVM For Anomaly Detection](https://medium.com/p/one-class-svm-for-anomaly-detection-6c97fdd6d8af)\n",
        "- [Time Series Anomaly Detection Using Prophet in Python](https://medium.com/grabngoinfo/time-series-anomaly-detection-using-prophet-in-python-877d2b7b14b4)\n",
        "- [Sentiment Analysis Without Modeling: TextBlob vs. VADER vs. Flair](https://medium.com/p/sentiment-analysis-without-modeling-textblob-vs-vader-vs-flair-657b7af855f4)\n",
        "- [Recommendation System: User-Based Collaborative Filtering](https://medium.com/p/recommendation-system-user-based-collaborative-filtering-a2e76e3e15c4)\n",
        "- [How to detect outliers | Data Science Interview Questions and Answers](https://medium.com/p/how-to-detect-outliers-data-science-interview-questions-and-answers-1e400284f6b4)\n",
        "- [Causal Inference One-to-one Matching on Confounders Using R for Python Users](https://medium.com/grabngoinfo/causal-inference-one-to-one-matching-on-confounders-using-python-and-r-1baf7fb105f3)\n",
        "- [Gaussian Mixture Model (GMM) for Anomaly Detection](https://medium.com/grabngoinfo/gaussian-mixture-model-gmm-for-anomaly-detection-e8360e6f4009)\n",
        "- [Time Series Anomaly Detection Using Prophet in Python](https://medium.com/p/time-series-anomaly-detection-using-prophet-in-python-877d2b7b14b4)\n",
        "- [How to Use R with Google Colab Notebook](https://medium.com/p/how-to-use-r-with-google-colab-notebook-610c3a2f0eab)"
      ],
      "metadata": {
        "id": "gxxHjHvl3e8X"
      }
    },
    {
      "cell_type": "markdown",
      "metadata": {
        "id": "pHlriZl3ZYMA"
      },
      "source": [
        "# Reference"
      ]
    },
    {
      "cell_type": "markdown",
      "metadata": {
        "id": "bIt5ZSTtZaIx"
      },
      "source": [
        "* [One Class SVM Paper](http://citeseerx.ist.psu.edu/viewdoc/download?doi=10.1.1.86.5955&rep=rep1&type=pdf)\n",
        "* [Anomaly Detection Sklearn User Guide](https://scikit-learn.org/stable/modules/outlier_detection.html#outlier-detection)\n",
        "* [One-class SVM With Non-linear Kernel](https://scikit-learn.org/stable/auto_examples/svm/plot_oneclass.html#sphx-glr-auto-examples-svm-plot-oneclass-py)\n"
      ]
    }
  ]
}